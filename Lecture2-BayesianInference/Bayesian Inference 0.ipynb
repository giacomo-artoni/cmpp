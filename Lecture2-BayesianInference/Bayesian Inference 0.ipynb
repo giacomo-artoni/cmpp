{
 "cells": [
  {
   "cell_type": "code",
   "execution_count": 1,
   "metadata": {
    "scrolled": false
   },
   "outputs": [
    {
     "name": "stderr",
     "output_type": "stream",
     "text": [
      "/Users/artoni/anaconda3/lib/python3.7/site-packages/ipykernel_launcher.py:43: RuntimeWarning: invalid value encountered in double_scalars\n"
     ]
    },
    {
     "name": "stdout",
     "output_type": "stream",
     "text": [
      "Rejection rate:1.00\n"
     ]
    }
   ],
   "source": [
    "# http://stackoverflow.com/questions/7718034/maximum-likelihood-estimate-pseudocode\n",
    "# http://twiecki.github.io/blog/2015/11/10/mcmc-sampling/\n",
    "# Our goal: estimate the posterior of the mean \\mu (assuming we know the standard deviation to be 1), \n",
    "# using N points from a normal centered around zero\n",
    "\n",
    "import numpy as np\n",
    "# https://docs.scipy.org/doc/scipy/reference/generated/scipy.stats.norm.html#scipy.stats.norm\n",
    "from scipy.stats import norm\n",
    "import matplotlib.pyplot as plt\n",
    "import seaborn as sns\n",
    "sns.set_style('ticks')\n",
    "\n",
    "# Generate fake data set (Gaussian centered at zero)\n",
    "n_data = 500 # Try also 5000: what happens?\n",
    "burnin = 100\n",
    "np.random.seed(100100) # For reproducibility\n",
    "data = np.random.randn(n_data)\n",
    "\n",
    "#Parameters for the MCMC-MH method\n",
    "prop_width = 0.1 # Width (sigma) of proposed step from current step\n",
    "chain = [0.5]     # Starting value of chain\n",
    "rejected = 0     # Track number of rejected proposals to compute rejection rate\n",
    "\n",
    "# Build the chain\n",
    "while len(chain) < 1000:\n",
    "    \n",
    "    current_mu = chain[-1]\n",
    "    proposed_mu = norm(current_mu, prop_width).rvs() # propose step\n",
    "    \n",
    "    # Likelihoods\n",
    "    current_lh = norm(current_mu, 1).pdf(data).prod()\n",
    "    proposed_lh = norm(proposed_mu, 1).pdf(data).prod()\n",
    "\n",
    "    # Priors\n",
    "    current_prior = norm(0, 1).pdf(current_mu)\n",
    "    proposed_prior = norm(0, 1).pdf(proposed_mu)\n",
    "\n",
    "    # Nominator of Bayes formula\n",
    "    current_p = current_lh * current_prior\n",
    "    proposed_p = proposed_lh * proposed_prior\n",
    "    \n",
    "    # Acceptance factor: ratio of posteriors\n",
    "    acceptance_factor = proposed_p / current_p\n",
    "    accept = np.random.rand() < acceptance_factor\n",
    "    if accept:\n",
    "        chain.append(proposed_mu) # Add accepted proposal to chain\n",
    "    else:\n",
    "        rejected+=1\n",
    "        chain.append(current_mu) # Note: store a value *anyway*!\n",
    "    \n",
    "print(\"Rejection rate:%.2f\"%(rejected/len(chain)))"
   ]
  },
  {
   "cell_type": "code",
   "execution_count": 2,
   "metadata": {},
   "outputs": [
    {
     "data": {
      "image/png": "[encoded data removed]",
      "text/plain": [
       "<Figure size 432x288 with 1 Axes>"
      ]
     },
     "metadata": {
      "needs_background": "light"
     },
     "output_type": "display_data"
    }
   ],
   "source": [
    "# Plotting results\n",
    "plt.hist(data, histtype='stepfilled', facecolor='r', alpha=0.5)\n",
    "plt.xlabel('x')\n",
    "plt.ylabel('events')\n",
    "plt.title('Input data distribution')\n",
    "#xs = np.linspace(min(data), max(data), 1000)\n",
    "#pdf = norm.pdf(xs, 0, 1)\n",
    "#plt.plot(xs, pdf * n_data, 'k--')\n",
    "plt.show()"
   ]
  },
  {
   "cell_type": "code",
   "execution_count": 3,
   "metadata": {},
   "outputs": [
    {
     "data": {
      "image/png": "[encoded data removed]",
      "text/plain": [
       "<Figure size 432x288 with 1 Axes>"
      ]
     },
     "metadata": {
      "needs_background": "light"
     },
     "output_type": "display_data"
    }
   ],
   "source": [
    "plt.plot(chain, 'k--', label='after burn in')\n",
    "plt.plot(chain[:burnin], 'r-', label='before burn in')\n",
    "plt.xlabel('Step')\n",
    "plt.ylabel('$\\mu$')\n",
    "plt.title('$\\mu$ evolution')\n",
    "plt.legend()\n",
    "plt.show()"
   ]
  },
  {
   "cell_type": "code",
   "execution_count": 4,
   "metadata": {},
   "outputs": [
    {
     "data": {
      "image/png": "[encoded data removed]",
      "text/plain": [
       "<Figure size 432x288 with 1 Axes>"
      ]
     },
     "metadata": {
      "needs_background": "light"
     },
     "output_type": "display_data"
    }
   ],
   "source": [
    "n, bins, patches = plt.hist(chain[burnin:], histtype='stepfilled', facecolor='g', alpha=0.5, weights=np.ones_like(chain[burnin:])/len(chain[burnin:]))\n",
    "plt.xlabel('$\\mu$')\n",
    "plt.ylabel('probability')\n",
    "plt.title('$\\mu$ posterior')\n",
    "plt.show()"
   ]
  },
  {
   "cell_type": "code",
   "execution_count": null,
   "metadata": {},
   "outputs": [],
   "source": []
  }
 ],
 "metadata": {
  "anaconda-cloud": {},
  "kernelspec": {
   "display_name": "Python 3",
   "language": "python",
   "name": "python3"
  },
  "language_info": {
   "codemirror_mode": {
    "name": "ipython",
    "version": 3
   },
   "file_extension": ".py",
   "mimetype": "text/x-python",
   "name": "python",
   "nbconvert_exporter": "python",
   "pygments_lexer": "ipython3",
   "version": "3.7.2"
  }
 },
 "nbformat": 4,
 "nbformat_minor": 1
}
