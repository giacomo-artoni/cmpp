{
 "cells": [
  {
   "cell_type": "markdown",
   "metadata": {},
   "source": [
    "## Panda Data Testing Using MiniBooNE Dataset\n",
    "<a href=\"https://pbs.twimg.com/media/C4f3GF6WAAAY1Ok.jpg:large\">Pandas cheat sheet for reference</a>\n",
    "<img src=\"https://pbs.twimg.com/media/C4f3GF6WAAAY1Ok.jpg:large\" >\n",
    "\n",
    "<br>\n",
    "<br>\n",
    "What follows is an example of pandas usage using the MiniBooNE PID dataset from: https://archive.ics.uci.edu/ml/datasets/MiniBooNE+particle+identification\n"
   ]
  },
  {
   "cell_type": "code",
   "execution_count": null,
   "metadata": {},
   "outputs": [],
   "source": [
    "%matplotlib inline\n",
    "\n",
    "import matplotlib.pyplot as plt\n",
    "import pandas as pd\n",
    "import numpy as np\n",
    "import matplotlib.pylab as pylab\n",
    "import seaborn as sns\n",
    "sns.set(style='ticks')\n",
    "\n",
    "#Plot formatting for presentation\n",
    "plt.style.use(['bmh'])\n",
    "\n",
    "params = {'legend.fontsize': 'x-large',\n",
    "         'axes.labelsize': 'x-large',\n",
    "         'axes.titlesize':'x-large',\n",
    "         'xtick.labelsize':'x-large',\n",
    "         'ytick.labelsize':'x-large'}\n",
    "pylab.rcParams.update(params)\n",
    "\n",
    "#Load the header information from the text file\n",
    "#The header contains the number of signal and background events\n",
    "mb_sigback = pd.read_table(\"../Datasets/MiniBooNE_PID.txt\", delimiter=r\"\\s+\", nrows=1, header=None)\n",
    "nsig = mb_sigback[0][0]\n",
    "nback = mb_sigback[1][0]\n",
    "\n",
    "#Load the signal and background into separate dataframes\n",
    "mb_sig = pd.read_table(\"../Datasets/MiniBooNE_PID.txt\", delimiter=r\"\\s+\", nrows=1000, skiprows=1, header=None)\n",
    "mb_back = pd.read_table(\"../Datasets/MiniBooNE_PID.txt\", delimiter=r\"\\s+\", nrows=1000, skiprows=1+nsig, header=None)\n",
    "\n",
    "#Add labels column to mbsig and mbback (0 = signal, 1 = background)\n",
    "mb_sig['sigback'] = pd.Series([0 for x in range(len(mb_sig.index))], index=mb_sig.index)\n",
    "mb_back['sigback'] = pd.Series([1 for x in range(len(mb_back.index))], index=mb_back.index)\n",
    "\n",
    "#Merge the dataframes into one\n",
    "mb_all=pd.concat([mb_sig,mb_back]) \n",
    "\n",
    "#Clean default values from the dataset (remove entries with -999.00 in any field)\n",
    "for col in mb_all:\n",
    "    mb_all=mb_all[mb_all[col]!=-999.00]\n",
    "    \n",
    "#Rescale data to be from 0 to 1\n",
    "norm_cols = [i for i in range(50)]\n",
    "mb_all[norm_cols] = mb_all[norm_cols].apply(lambda x: (x - x.min()) / (x.max() - x.min()))"
   ]
  },
  {
   "cell_type": "code",
   "execution_count": null,
   "metadata": {},
   "outputs": [],
   "source": [
    "print(\"Total signal entries:\", nsig)\n",
    "print(\"Total background entries:\", nback)"
   ]
  },
  {
   "cell_type": "code",
   "execution_count": null,
   "metadata": {},
   "outputs": [],
   "source": [
    "mb_sig.describe()"
   ]
  },
  {
   "cell_type": "code",
   "execution_count": null,
   "metadata": {},
   "outputs": [],
   "source": [
    "mb_back.describe()"
   ]
  },
  {
   "cell_type": "code",
   "execution_count": null,
   "metadata": {},
   "outputs": [],
   "source": [
    "mb_all.describe()"
   ]
  },
  {
   "cell_type": "code",
   "execution_count": null,
   "metadata": {
    "scrolled": false
   },
   "outputs": [],
   "source": [
    "#Do some plotting (first 8 features)\n",
    "for col in range(8):\n",
    "    plt.figure()\n",
    "    #Extract signal and background for this column from pandas dataframe\n",
    "    sig=mb_all[mb_all.sigback==0][col]\n",
    "    back=mb_all[mb_all.sigback==1][col]\n",
    "    #Get binning by merging the datasets, plotting, and returning the binning (index 1)\n",
    "    bins=np.histogram(np.hstack((sig, back)), bins=40)[1]\n",
    "    plt.hist(sig, label='Signal', alpha=0.5, bins=bins)\n",
    "    plt.hist(back, label='Background', alpha=0.5, bins=bins)\n",
    "    plt.xlabel('Feature %d'%col)\n",
    "    plt.legend()\n",
    "    plt.show()"
   ]
  },
  {
   "cell_type": "code",
   "execution_count": null,
   "metadata": {},
   "outputs": [],
   "source": [
    "#Plot 2d correlation plots for the first 2 features\n",
    "sns.jointplot(x=0, y=1, data=mb_all, kind=\"kde\");"
   ]
  },
  {
   "cell_type": "code",
   "execution_count": null,
   "metadata": {
    "scrolled": false
   },
   "outputs": [],
   "source": [
    "#Plot pairwise 2d correlation plots for some features\n",
    "#Note: this uses the seaborn library\n",
    "g = sns.pairplot(mb_all, hue=\"sigback\", vars=[0,1,3, 24], height=2.5, plot_kws=dict(s=10))"
   ]
  },
  {
   "cell_type": "code",
   "execution_count": null,
   "metadata": {},
   "outputs": [],
   "source": []
  }
 ],
 "metadata": {
  "anaconda-cloud": {},
  "kernelspec": {
   "display_name": "Python 3",
   "language": "python",
   "name": "python3"
  },
  "language_info": {
   "codemirror_mode": {
    "name": "ipython",
    "version": 3
   },
   "file_extension": ".py",
   "mimetype": "text/x-python",
   "name": "python",
   "nbconvert_exporter": "python",
   "pygments_lexer": "ipython3",
   "version": "3.7.1"
  }
 },
 "nbformat": 4,
 "nbformat_minor": 1
}
