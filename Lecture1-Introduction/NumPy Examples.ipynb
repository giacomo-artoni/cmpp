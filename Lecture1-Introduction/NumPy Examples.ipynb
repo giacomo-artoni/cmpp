{
 "cells": [
  {
   "cell_type": "markdown",
   "metadata": {},
   "source": [
    "## NumPy Basics\n",
    "\n",
    "For a more detailed tutorial on numpy see: https://docs.scipy.org/doc/numpy-dev/user/quickstart.html\n"
   ]
  },
  {
   "cell_type": "code",
   "execution_count": 1,
   "metadata": {
    "nbpresent": {
     "id": "0e08a356-5294-475f-a643-8e00be3c8d82"
    }
   },
   "outputs": [
    {
     "name": "stdout",
     "output_type": "stream",
     "text": [
      "Float array: [1.4 1.  5.  1.6]\n"
     ]
    }
   ],
   "source": [
    "import numpy as np\n",
    "\n",
    "#Array definitions\n",
    "v=np.array([1.4,1,5,1.6]) #implict float typing\n",
    "print(\"Float array:\",v)\n"
   ]
  },
  {
   "cell_type": "code",
   "execution_count": 2,
   "metadata": {},
   "outputs": [
    {
     "name": "stdout",
     "output_type": "stream",
     "text": [
      "Int array: [1 2 3 4]\n"
     ]
    }
   ],
   "source": [
    "v=np.array([1,2,3,4]) #implicit int typing\n",
    "print(\"Int array:\",v)"
   ]
  },
  {
   "cell_type": "code",
   "execution_count": 3,
   "metadata": {
    "scrolled": true
   },
   "outputs": [
    {
     "name": "stdout",
     "output_type": "stream",
     "text": [
      "Explicit float array: [1. 2. 3. 4.]\n"
     ]
    }
   ],
   "source": [
    "v=np.array([1,2,3,4],dtype=np.float) #explicit float typing\n",
    "print(\"Explicit float array:\",v)"
   ]
  },
  {
   "cell_type": "code",
   "execution_count": 4,
   "metadata": {},
   "outputs": [
    {
     "name": "stdout",
     "output_type": "stream",
     "text": [
      "Random array contents: [0.72562655 0.77946379 0.12213977 0.2043434  0.74787023 0.8129001\n",
      " 0.42221875 0.50287933 0.95531194 0.68087309]\n"
     ]
    }
   ],
   "source": [
    "#Make a random array\n",
    "v = np.random.random(10)\n",
    "print(\"Random array contents:\",v)"
   ]
  },
  {
   "cell_type": "code",
   "execution_count": 5,
   "metadata": {},
   "outputs": [
    {
     "name": "stdout",
     "output_type": "stream",
     "text": [
      "Sorted random array: [0.12213977 0.2043434  0.42221875 0.50287933 0.68087309 0.72562655\n",
      " 0.74787023 0.77946379 0.8129001  0.95531194]\n"
     ]
    }
   ],
   "source": [
    "#Sorting\n",
    "v.sort()\n",
    "print(\"Sorted random array:\", v)"
   ]
  },
  {
   "cell_type": "markdown",
   "metadata": {},
   "source": [
    "## Why use numpy arrays instead of python lists?\n"
   ]
  },
  {
   "cell_type": "code",
   "execution_count": 6,
   "metadata": {},
   "outputs": [
    {
     "name": "stdout",
     "output_type": "stream",
     "text": [
      "Mixed type array: [1, 2, 3, 4, 5.0]\n"
     ]
    }
   ],
   "source": [
    "#1. Python arrays are flexible\n",
    "python_v=[1,2,3,4,5.]\n",
    "print(\"Mixed type array:\", python_v)"
   ]
  },
  {
   "cell_type": "code",
   "execution_count": 6,
   "metadata": {},
   "outputs": [
    {
     "name": "stdout",
     "output_type": "stream",
     "text": [
      "Numpy average time to sum: 6.390e-05\n",
      "List average time to sum:  1.936e-03\n",
      "Memory size of numpy array: 800000 bytes\n",
      "Memory size of python list: 2800044 bytes\n"
     ]
    }
   ],
   "source": [
    "#2. Numpy arrays are fixed variable type, but much more compact so they are faster!\n",
    "from timeit import Timer\n",
    "from sys import getsizeof\n",
    "\n",
    "NTestTimes = 100 #\n",
    "\n",
    "list_v=range(100000)\n",
    "np_v=np.arange(100000)\n",
    "\n",
    "t_numpy = Timer(\"np_v.sum()\", \"from __main__ import np_v\")\n",
    "t_list = Timer(\"sum(list_v)\", \"from __main__ import list_v\")\n",
    "print(\"Numpy average time to sum: %.3e\" % (t_numpy.timeit(NTestTimes)/NTestTimes,))\n",
    "print(\"List average time to sum:  %.3e\" % (t_list.timeit(NTestTimes)/NTestTimes,))\n",
    "\n",
    "print(\"Memory size of numpy array: %d bytes\"% np_v.nbytes)\n",
    "print(\"Memory size of python list: %d bytes\"% (getsizeof(list_v) + sum(getsizeof(i) for i in list_v)))"
   ]
  },
  {
   "cell_type": "code",
   "execution_count": 7,
   "metadata": {
    "nbpresent": {
     "id": "38aad152-1473-4ce1-8fb4-a4b8592a473d"
    }
   },
   "outputs": [
    {
     "name": "stdout",
     "output_type": "stream",
     "text": [
      "Random vector: [0.71108095 0.34158697 0.76011025]\n",
      "Random vector rotated 45 degrees in yz plane: [ 0.71108095 -0.29594065  0.77901758]\n"
     ]
    }
   ],
   "source": [
    "#3. Matrix operations\n",
    "theta=np.radians(45)\n",
    "c, s = np.cos(theta), np.sin(theta)\n",
    "R=np.array([[1,0,0],[0,c,-s],[0,s,c]])\n",
    "v=np.random.random(3)\n",
    "\n",
    "print(\"Random vector:\",v)\n",
    "print(\"Random vector rotated 45 degrees in yz plane:\",R.dot(v))"
   ]
  }
 ],
 "metadata": {
  "anaconda-cloud": {},
  "kernelspec": {
   "display_name": "Python 3",
   "language": "python",
   "name": "python3"
  },
  "language_info": {
   "codemirror_mode": {
    "name": "ipython",
    "version": 3
   },
   "file_extension": ".py",
   "mimetype": "text/x-python",
   "name": "python",
   "nbconvert_exporter": "python",
   "pygments_lexer": "ipython3",
   "version": "3.7.1"
  }
 },
 "nbformat": 4,
 "nbformat_minor": 1
}
