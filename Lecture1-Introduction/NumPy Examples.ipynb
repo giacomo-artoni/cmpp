{
 "cells": [
  {
   "cell_type": "markdown",
   "metadata": {},
   "source": [
    "## NumPy Basics\n",
    "\n",
    "For a more detailed tutorial on numpy see: https://numpy.org/doc/stable/\n"
   ]
  },
  {
   "cell_type": "code",
   "execution_count": 1,
   "metadata": {
    "nbpresent": {
     "id": "0e08a356-5294-475f-a643-8e00be3c8d82"
    }
   },
   "outputs": [],
   "source": [
    "# This is a very common import statement for numpy\n",
    "import numpy as np"
   ]
  },
  {
   "cell_type": "code",
   "execution_count": 2,
   "metadata": {
    "nbpresent": {
     "id": "0e08a356-5294-475f-a643-8e00be3c8d82"
    }
   },
   "outputs": [
    {
     "name": "stdout",
     "output_type": "stream",
     "text": [
      "Float array: [1.4 1.  5.  1.6]\n"
     ]
    }
   ],
   "source": [
    "# Array definitions\n",
    "v = np.array([1.4, 1, 5, 1.6]) # implicit float typing\n",
    "print(\"Float array:\", v)"
   ]
  },
  {
   "cell_type": "code",
   "execution_count": 3,
   "metadata": {},
   "outputs": [
    {
     "name": "stdout",
     "output_type": "stream",
     "text": [
      "Int array: [1 2 3 4]\n"
     ]
    }
   ],
   "source": [
    "v = np.array([1, 2, 3, 4]) # implicit int typing\n",
    "print(\"Int array:\", v)"
   ]
  },
  {
   "cell_type": "code",
   "execution_count": 4,
   "metadata": {
    "scrolled": true
   },
   "outputs": [
    {
     "name": "stdout",
     "output_type": "stream",
     "text": [
      "Explicit float array: [1. 2. 3. 4.]\n"
     ]
    }
   ],
   "source": [
    "v = np.array([1, 2, 3, 4],dtype=np.float) # explicit float typing\n",
    "print(\"Explicit float array:\", v)"
   ]
  },
  {
   "cell_type": "code",
   "execution_count": 5,
   "metadata": {},
   "outputs": [
    {
     "name": "stdout",
     "output_type": "stream",
     "text": [
      "Random array contents: [0.45013256 0.72245608 0.0426387  0.52726313 0.21380843 0.5680495\n",
      " 0.95080029 0.72135793 0.90547219 0.70128929]\n"
     ]
    }
   ],
   "source": [
    "# Create a random array\n",
    "v = np.random.random(10)\n",
    "print(\"Random array contents:\", v)"
   ]
  },
  {
   "cell_type": "code",
   "execution_count": 6,
   "metadata": {},
   "outputs": [
    {
     "name": "stdout",
     "output_type": "stream",
     "text": [
      "Sorted random array: [0.0426387  0.21380843 0.45013256 0.52726313 0.5680495  0.70128929\n",
      " 0.72135793 0.72245608 0.90547219 0.95080029]\n"
     ]
    }
   ],
   "source": [
    "# Sorting\n",
    "v.sort()\n",
    "print(\"Sorted random array:\", v)"
   ]
  },
  {
   "cell_type": "markdown",
   "metadata": {},
   "source": [
    "## Why use numpy arrays instead of python lists?\n"
   ]
  },
  {
   "cell_type": "code",
   "execution_count": 7,
   "metadata": {},
   "outputs": [
    {
     "name": "stdout",
     "output_type": "stream",
     "text": [
      "Mixed type array: [1, 2, 3, 4, 5.0]\n"
     ]
    }
   ],
   "source": [
    "# 1. Python arrays are flexible\n",
    "python_v = [1, 2, 3, 4, 5.]\n",
    "print(\"Mixed type array:\", python_v)"
   ]
  },
  {
   "cell_type": "code",
   "execution_count": 8,
   "metadata": {},
   "outputs": [
    {
     "name": "stdout",
     "output_type": "stream",
     "text": [
      "Numpy average time to sum: 1.525e-04\n",
      "List average time to sum:  2.446e-03\n",
      "Memory size of numpy array: 800000 bytes\n",
      "Memory size of python list: 2800044 bytes\n"
     ]
    }
   ],
   "source": [
    "# 2. Numpy arrays are fixed variable type, but much more compact so they are faster!\n",
    "from timeit import Timer\n",
    "from sys import getsizeof\n",
    "\n",
    "n_test_times = 100\n",
    "n_items = 100000\n",
    "\n",
    "list_v = range(n_items)\n",
    "np_v = np.arange(n_items)\n",
    "\n",
    "t_numpy = Timer(\"np_v.sum()\", \"from __main__ import np_v\")\n",
    "t_list = Timer(\"sum(list_v)\", \"from __main__ import list_v\")\n",
    "\n",
    "print(\"Numpy average time to sum: %.3e\" % (t_numpy.timeit(n_test_times)/n_test_times,))\n",
    "print(\"List average time to sum:  %.3e\" % (t_list.timeit(n_test_times)/n_test_times,))\n",
    "\n",
    "print(\"Memory size of numpy array: %d bytes\"% np_v.nbytes)\n",
    "print(\"Memory size of python list: %d bytes\"% (getsizeof(list_v) + sum(getsizeof(i) for i in list_v)))"
   ]
  },
  {
   "cell_type": "code",
   "execution_count": 9,
   "metadata": {
    "nbpresent": {
     "id": "38aad152-1473-4ce1-8fb4-a4b8592a473d"
    }
   },
   "outputs": [
    {
     "name": "stdout",
     "output_type": "stream",
     "text": [
      "Random vector: [0.92766884 0.13255453 0.97719629]\n",
      "Random vector rotated 45 degrees in yz plane: [ 0.92766884 -0.59725191  0.78471233]\n"
     ]
    }
   ],
   "source": [
    "# 3. Matrix operations\n",
    "theta = np.radians(45)\n",
    "c, s = np.cos(theta), np.sin(theta)\n",
    "R = np.array([[1, 0, 0], [0, c, -s], [0, s, c]])\n",
    "v = np.random.random(3)\n",
    "\n",
    "print(\"Random vector:\", v)\n",
    "print(\"Random vector rotated 45 degrees in yz plane:\", R.dot(v))"
   ]
  }
 ],
 "metadata": {
  "anaconda-cloud": {},
  "kernelspec": {
   "display_name": "Python 3",
   "language": "python",
   "name": "python3"
  },
  "language_info": {
   "codemirror_mode": {
    "name": "ipython",
    "version": 3
   },
   "file_extension": ".py",
   "mimetype": "text/x-python",
   "name": "python",
   "nbconvert_exporter": "python",
   "pygments_lexer": "ipython3",
   "version": "3.7.2"
  }
 },
 "nbformat": 4,
 "nbformat_minor": 1
}
