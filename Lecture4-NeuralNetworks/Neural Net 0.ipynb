{
 "cells": [
  {
   "cell_type": "markdown",
   "metadata": {},
   "source": [
    "An example of a training a feed-fordward neural network with hidden layer. "
   ]
  },
  {
   "cell_type": "code",
   "execution_count": null,
   "metadata": {},
   "outputs": [],
   "source": [
    "%matplotlib inline\n",
    "import numpy as np\n",
    "import NeuralNetworkDrawer as nnd\n",
    "import matplotlib.pyplot as plt\n",
    "\n",
    "#Training data for network: a && (b || c)\n",
    "#Note this is not the complete logic table!\n",
    "X=np.array([[0,0,1],\n",
    "            [0,1,1],\n",
    "            [1,0,1],\n",
    "            [1,1,1]])\n",
    "\n",
    "y=np.array([[0],[0],[1],[1]])"
   ]
  },
  {
   "cell_type": "code",
   "execution_count": null,
   "metadata": {},
   "outputs": [],
   "source": [
    "#Number of training epochs \n",
    "epochs=100000\n",
    "\n",
    "#randomly initialize weights between input -> hidden layer -> output\n",
    "w0 = 2*np.random.random((3,4)) - 1 #3 inputs to 4 hiddent layers\n",
    "w1 = 2*np.random.random((4,1)) - 1 #4 hidden layers to 1 output\n",
    "\n",
    "print(w0)\n",
    "print(w1)"
   ]
  },
  {
   "cell_type": "code",
   "execution_count": null,
   "metadata": {},
   "outputs": [],
   "source": [
    "def sigmoid(x):\n",
    "    #logistic or sigmoid activation function\n",
    "    return 1/(1+np.exp(-x))\n",
    "\n",
    "def dsigmoid(x):\n",
    "    #derivative of activation function\n",
    "    return x*(1-x)"
   ]
  },
  {
   "cell_type": "code",
   "execution_count": null,
   "metadata": {
    "scrolled": false
   },
   "outputs": [],
   "source": [
    "#Store training errors vs iteration for plotting later\n",
    "errx=[]\n",
    "erry=[]\n",
    "\n",
    "#Train the network\n",
    "for i in range(epochs):\n",
    "    #feed forward\n",
    "    l0 = X\n",
    "    l1 = sigmoid(np.dot(l0,w0))\n",
    "    l2 = sigmoid(np.dot(l1,w1))\n",
    "    \n",
    "    l2_err = y - l2\n",
    "    l2_delta = l2_err*dsigmoid(l2)\n",
    "    \n",
    "    l1_err = l2_delta.dot(w1.T)\n",
    "    l1_delta = l1_err*dsigmoid(l1)\n",
    "    \n",
    "    w1 += l1.T.dot(l2_delta)\n",
    "    w0 += l0.T.dot(l1_delta)\n",
    "    \n",
    "    #Periodically print current error and draw the network\n",
    "    if ((i%100)==0 and i<500) or i==epochs-1:\n",
    "        print(\"Error=\",np.mean(np.abs(l2_err)))\n",
    "        network = nnd.NeuralNetwork()\n",
    "        network.add_layer(1,4*sigmoid(w1)-2)\n",
    "        network.add_layer(4,4*sigmoid(w0)-2)\n",
    "        network.add_layer(3)\n",
    "        network.draw(save=False, outfile=\"anim/plt%04d.png\"%i)\n",
    "        \n",
    "    errx.append(i)\n",
    "    erry.append(np.mean(np.abs(l2_err)))\n",
    "    "
   ]
  },
  {
   "cell_type": "code",
   "execution_count": null,
   "metadata": {},
   "outputs": [],
   "source": [
    "#Plot the Error vs Iteration\n",
    "plt.plot(errx,erry, 'r--')\n",
    "plt.yscale('log')\n",
    "plt.ylabel(\"Error\")\n",
    "plt.xlabel(\"Iteration\")\n",
    "plt.show()"
   ]
  },
  {
   "cell_type": "code",
   "execution_count": null,
   "metadata": {},
   "outputs": [],
   "source": [
    "#Test examples for trained inputs\n",
    "def testNet(X,ytrue):\n",
    "    l0=X\n",
    "    l1=sigmoid(np.dot(l0,w0))\n",
    "    l2=sigmoid(np.dot(l1,w1))\n",
    "    print(\"Network returned %f, expected %d.\"%(l2,ytrue))\n",
    "    #return l2\n",
    "\n",
    "testNet([0,0,1],0)\n",
    "testNet([0,1,1],0)\n",
    "testNet([1,1,1],1)\n",
    "testNet([1,0,1],1)"
   ]
  },
  {
   "cell_type": "code",
   "execution_count": null,
   "metadata": {},
   "outputs": [],
   "source": [
    "#Test examples for extrapolated inputs\n",
    "testNet([0,0,0],0)\n",
    "testNet([0,1,0],0)\n",
    "testNet([1,1,0],1)\n",
    "testNet([1,0,0],0)"
   ]
  },
  {
   "cell_type": "code",
   "execution_count": null,
   "metadata": {},
   "outputs": [],
   "source": []
  }
 ],
 "metadata": {
  "anaconda-cloud": {},
  "kernelspec": {
   "display_name": "Python 3",
   "language": "python",
   "name": "python3"
  },
  "language_info": {
   "codemirror_mode": {
    "name": "ipython",
    "version": 3
   },
   "file_extension": ".py",
   "mimetype": "text/x-python",
   "name": "python",
   "nbconvert_exporter": "python",
   "pygments_lexer": "ipython3",
   "version": "3.7.1"
  }
 },
 "nbformat": 4,
 "nbformat_minor": 1
}
