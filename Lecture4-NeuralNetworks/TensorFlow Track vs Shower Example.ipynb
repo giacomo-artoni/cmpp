{
 "cells": [
  {
   "cell_type": "code",
   "execution_count": null,
   "metadata": {},
   "outputs": [],
   "source": [
    "%matplotlib inline\n",
    "import matplotlib.pyplot as plt\n",
    "import tensorflow as tf\n",
    "import numpy as np\n",
    "#from tensorflow.examples.tutorials.mnist import input_data\n",
    "import pickle\n",
    "from TFHelpers import *\n",
    "\n",
    "from pylab import rcParams\n",
    "rcParams['figure.figsize'] = 7, 7"
   ]
  },
  {
   "cell_type": "code",
   "execution_count": null,
   "metadata": {
    "scrolled": true
   },
   "outputs": [],
   "source": [
    "batch_size = 128\n",
    "test_size = 256\n",
    "img_shape = (32,32)\n",
    "truelabels= (\"S\", \"T\")\n",
    "\n",
    "def init_weights(shape):\n",
    "    return tf.Variable(tf.random_normal(shape, stddev=0.01))\n",
    "\n",
    "def model(X, w, w2, w3, w4, w_o, p_keep_conv, p_keep_hidden):\n",
    "    l1a = tf.nn.relu(tf.nn.conv2d(X, w,                       # l1a shape=(?, 32, 32, 32)\n",
    "                        strides=[1, 1, 1, 1], padding='SAME'))\n",
    "    l1 = tf.nn.max_pool(l1a, ksize=[1, 2, 2, 1],              # l1 shape=(?, 16, 16, 32)\n",
    "                        strides=[1, 2, 2, 1], padding='SAME')\n",
    "    l1 = tf.nn.dropout(l1, p_keep_conv)\n",
    "\n",
    "    l2a = tf.nn.relu(tf.nn.conv2d(l1, w2,                     # l2a shape=(?, 16, 16, 64)\n",
    "                        strides=[1, 1, 1, 1], padding='SAME'))\n",
    "    l2 = tf.nn.max_pool(l2a, ksize=[1, 2, 2, 1],              # l2 shape=(?, 8, 8, 64)\n",
    "                        strides=[1, 2, 2, 1], padding='SAME')\n",
    "    l2 = tf.nn.dropout(l2, p_keep_conv)\n",
    "\n",
    "    l3a = tf.nn.relu(tf.nn.conv2d(l2, w3,                     # l3a shape=(?, 8, 8, 128)\n",
    "                        strides=[1, 1, 1, 1], padding='SAME'))\n",
    "    l3b = tf.nn.max_pool(l3a, ksize=[1, 2, 2, 1],              # l3 shape=(?, 4, 4, 128)\n",
    "                        strides=[1, 2, 2, 1], padding='SAME')\n",
    "    l3b = tf.nn.dropout(l3b, p_keep_conv)\n",
    "    l3 = tf.reshape(l3b, [-1, w4.get_shape().as_list()[0]])    # reshape to (?, 2048)\n",
    "\n",
    "    l4 = tf.nn.relu(tf.matmul(l3, w4))\n",
    "    l4 = tf.nn.dropout(l4, p_keep_hidden)\n",
    "\n",
    "    pyx = tf.matmul(l4, w_o)\n",
    "    return pyx, l1, l2, l3b, l3\n",
    "\n",
    "trX=pickle.load( open( \"images.p\", \"rb\" ) )\n",
    "trY=np.asarray(pickle.load( open( \"labels.p\", \"rb\" ) ))\n",
    "teX=pickle.load( open( \"imagesTest.p\",\"rb\"))\n",
    "teY=np.asarray(pickle.load(open(\"labelsTest.p\",\"rb\")))\n",
    "trX = np.asarray(trX).reshape(-1,32,32,1) #32x32,1 input image\n",
    "teX = np.asarray(teX).reshape(-1,32,32,1) #32x32,1 input image\n",
    "\n",
    "#mnist = input_data.read_data_sets(\"MNIST_data/\", one_hot=True)\n",
    "#trX, trY, teX, teY = mnist.train.images, mnist.train.labels, mnist.test.images, mnist.test.labels\n",
    "#trX = trX.reshape(-1, 28, 28, 1)  # 28x28x1 input img\n",
    "#teX = teX.reshape(-1, 28, 28, 1)  # 28x28x1 input img"
   ]
  },
  {
   "cell_type": "code",
   "execution_count": null,
   "metadata": {},
   "outputs": [],
   "source": [
    "plot_images(trX[0:9],trY[0:9])"
   ]
  },
  {
   "cell_type": "code",
   "execution_count": null,
   "metadata": {},
   "outputs": [],
   "source": [
    "#Make place holder variables for dataset and labels\n",
    "X = tf.placeholder(\"float\", [None, 32, 32, 1])\n",
    "Y = tf.placeholder(\"float\", [None, 2])\n",
    "\n",
    "#Make place holder variables for each weight tensor with appropriate dimensions\n",
    "w = init_weights([3, 3, 1, 32])       # 3x3x1 conv, 32 outputs\n",
    "w2 = init_weights([3, 3, 32, 64])     # 3x3x32 conv, 64 outputs\n",
    "w3 = init_weights([3, 3, 64, 128])    # 3x3x32 conv, 128 outputs\n",
    "w4 = init_weights([128 * 4 * 4, 625]) # FC 128 * 4 * 4 inputs, 625 outputs\n",
    "w_o = init_weights([625, 2])         # FC 625 inputs, 2 outputs (labels)\n",
    "\n",
    "#Make placeholders for parameters specifying dropout rates (to be used during training)\n",
    "p_keep_conv = tf.placeholder(\"float\")\n",
    "p_keep_hidden = tf.placeholder(\"float\")\n",
    "py_x, l1, l2, l3b, l3 = model(X, w, w2, w3, w4, w_o, p_keep_conv, p_keep_hidden)\n",
    "\n",
    "#Cost function is mean of softmax cross entropy (see https://www.tensorflow.org/api_docs/python/tf/nn/softmax_cross_entropy_with_logits)\n",
    "cost = tf.reduce_mean(tf.nn.softmax_cross_entropy_with_logits(logits=py_x, labels=Y))\n",
    "#Define training operation (minimize cost function)\n",
    "#See https://www.tensorflow.org/api_docs/python/tf/train/RMSPropOptimizer\n",
    "train_op = tf.train.RMSPropOptimizer(0.001, 0.9).minimize(cost)\n",
    "#Define prediction operation\n",
    "predict_op = tf.argmax(py_x, 1)"
   ]
  },
  {
   "cell_type": "code",
   "execution_count": null,
   "metadata": {},
   "outputs": [],
   "source": [
    "def plot_example_errors(testimages, testclasses,cls_pred, correct):\n",
    "    # This function is called from print_test_accuracy() below.\n",
    "\n",
    "    # cls_pred is an array of the predicted class-number for\n",
    "    # all images in the test-set.\n",
    "\n",
    "    # correct is a boolean array whether the predicted class\n",
    "    # is equal to the true class for each image in the test-set.\n",
    "\n",
    "    # Negate the boolean array.\n",
    "    #incorrect = (correct == False)\n",
    "    #get indices of incorrect predictions\n",
    "    incorrect = np.where(correct==False)\n",
    "    \n",
    "    # Get the images from the test-set that have been\n",
    "    # incorrectly classified.\n",
    "    images = testimages[incorrect]\n",
    "\n",
    "    # Get the predicted classes for those images.\n",
    "    cls_pred = cls_pred[incorrect]\n",
    "\n",
    "    # Get the true classes for those images.\n",
    "    cls_true = testclasses[incorrect]\n",
    "    \n",
    "    # Plot the first 9 images.\n",
    "    #if len(images)>=9:\n",
    "    plot_images(images=images[0:9],\n",
    "            cls_true=cls_true[0:9],\n",
    "            cls_pred=cls_pred[0:9])"
   ]
  },
  {
   "cell_type": "code",
   "execution_count": null,
   "metadata": {
    "scrolled": false
   },
   "outputs": [],
   "source": [
    "# Launch the graph in a session\n",
    "sess=tf.Session()\n",
    "#with tf.Session() as sess:\n",
    "# you need to initialize all variables\n",
    "sess.run(tf.global_variables_initializer())\n",
    "\n",
    "for i in range(16):\n",
    "    training_batch = zip(range(0, len(trX), batch_size),\n",
    "                         range(batch_size, len(trX)+1, batch_size))\n",
    "    for start, end in training_batch:\n",
    "        #Note: 0.8*0.8*0.8 ~= 0.5 (dropout for each conv layer)\n",
    "        sess.run(train_op, feed_dict={X: trX[start:end], Y: trY[start:end],\n",
    "                                      p_keep_conv: 0.8, p_keep_hidden: 0.5})\n",
    "        \n",
    "\n",
    "    test_indices = np.arange(len(teX)) # Get A Test Batch\n",
    "    np.random.shuffle(test_indices)\n",
    "    test_indices = test_indices[0:test_size]\n",
    "\n",
    "    test_pred=sess.run(predict_op, feed_dict={X: teX[test_indices],\n",
    "                                                     Y: teY[test_indices],\n",
    "                                                     p_keep_conv: 1.0,\n",
    "                                                     p_keep_hidden: 1.0})\n",
    "    #print(np.argmax(teY[test_indices], axis=1) == test_pred)\n",
    "    plot_example_errors(teX[test_indices],teY[test_indices],test_pred, np.argmax(teY[test_indices], axis=1) == test_pred)\n",
    "    print(\"Batch %d, Accuracy %f\" %(i, np.mean(np.argmax(teY[test_indices], axis=1) == test_pred)))\n",
    "        "
   ]
  },
  {
   "cell_type": "code",
   "execution_count": null,
   "metadata": {
    "scrolled": false
   },
   "outputs": [],
   "source": [
    "plot_conv_weights(sess.run(w))"
   ]
  },
  {
   "cell_type": "code",
   "execution_count": null,
   "metadata": {},
   "outputs": [],
   "source": [
    "#Plot image to be tracked through network    \n",
    "plot_images(trX[3:4],trY[3:4])"
   ]
  },
  {
   "cell_type": "code",
   "execution_count": null,
   "metadata": {},
   "outputs": [],
   "source": [
    "plot_conv_layer(sess, l1, trX[3], trY[3], X, Y,p_keep_conv,p_keep_hidden)"
   ]
  },
  {
   "cell_type": "code",
   "execution_count": null,
   "metadata": {},
   "outputs": [],
   "source": [
    "plot_conv_weights(sess.run(w2))"
   ]
  },
  {
   "cell_type": "code",
   "execution_count": null,
   "metadata": {},
   "outputs": [],
   "source": [
    "plot_conv_layer(sess, l2, trX[3], trY[3], X, Y,p_keep_conv,p_keep_hidden)"
   ]
  },
  {
   "cell_type": "code",
   "execution_count": null,
   "metadata": {
    "scrolled": false
   },
   "outputs": [],
   "source": [
    "plot_conv_weights(sess.run(w3))"
   ]
  },
  {
   "cell_type": "code",
   "execution_count": null,
   "metadata": {},
   "outputs": [],
   "source": [
    "plot_conv_layer(sess, l3b, trX[3], trY[3], X, Y,p_keep_conv,p_keep_hidden)"
   ]
  },
  {
   "cell_type": "code",
   "execution_count": null,
   "metadata": {},
   "outputs": [],
   "source": []
  }
 ],
 "metadata": {
  "anaconda-cloud": {},
  "kernelspec": {
   "display_name": "Python 3",
   "language": "python",
   "name": "python3"
  },
  "language_info": {
   "codemirror_mode": {
    "name": "ipython",
    "version": 3
   },
   "file_extension": ".py",
   "mimetype": "text/x-python",
   "name": "python",
   "nbconvert_exporter": "python",
   "pygments_lexer": "ipython3",
   "version": "3.7.2"
  }
 },
 "nbformat": 4,
 "nbformat_minor": 1
}
