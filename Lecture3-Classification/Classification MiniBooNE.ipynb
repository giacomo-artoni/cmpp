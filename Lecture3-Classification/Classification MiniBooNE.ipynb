{
 "cells": [
  {
   "cell_type": "markdown",
   "metadata": {},
   "source": [
    "An example using multiple classification methods on the MiniBooNE  dataset. "
   ]
  },
  {
   "cell_type": "code",
   "execution_count": null,
   "metadata": {},
   "outputs": [],
   "source": [
    "%matplotlib inline\n",
    "\n",
    "import matplotlib.pyplot as plt\n",
    "import pandas as pd\n",
    "import numpy as np\n",
    "import matplotlib.pylab as pylab\n",
    "import seaborn as sns\n",
    "\n",
    "from sklearn.ensemble import AdaBoostClassifier\n",
    "from sklearn.tree import DecisionTreeClassifier\n",
    "from sklearn.naive_bayes import GaussianNB\n",
    "from sklearn.datasets import make_gaussian_quantiles\n",
    "from sklearn.metrics import roc_curve, classification_report, roc_auc_score, auc\n",
    "\n",
    "plt.style.use(['bmh'])\n",
    "\n",
    "params = {'legend.fontsize': 'x-large',\n",
    "         'axes.labelsize': 'x-large',\n",
    "         'axes.titlesize':'x-large',\n",
    "         'xtick.labelsize':'x-large',\n",
    "         'ytick.labelsize':'x-large'}\n",
    "pylab.rcParams.update(params)\n",
    "\n",
    "#Read in the number of signal & background events from text file\n",
    "mbsigback=pd.read_table(\"../Datasets/MiniBooNE_PID.txt\", delimiter=r\"\\s+\", nrows=1, header=None)\n",
    "nsig=mbsigback[0][0]\n",
    "nback=mbsigback[1][0]\n",
    "\n",
    "#Read signal and background into their own pandas dataframes\n",
    "mbsig=pd.read_table(\"../Datasets/MiniBooNE_PID.txt\", delimiter=r\"\\s+\", nrows=20000, skiprows=1, header=None)\n",
    "mbback=pd.read_table(\"../Datasets/MiniBooNE_PID.txt\", delimiter=r\"\\s+\", nrows=20000, skiprows=1+nsig, header=None)\n",
    "\n",
    "#Add class column to mbsig and mbback\n",
    "mbsig[50] = pd.Series([0 for x in range(len(mbsig.index))], index=mbsig.index)\n",
    "mbback[50] = pd.Series([1 for x in range(len(mbback.index))], index=mbback.index)\n",
    "\n",
    "#Merge all the data back together\n",
    "mball=pd.concat([mbsig,mbback]) \n",
    "\n",
    "#Clean default values from the dataset (remove entries with -999.00 in any field)\n",
    "for col in mball:\n",
    "    mball=mball[mball[col]!=-999.00]\n",
    "    \n",
    "#Normalize data\n",
    "norm_cols = [i for i in range(50)]\n",
    "mball[norm_cols] = mball[norm_cols].apply(lambda x: (x - x.mean()) / x.std())\n",
    "\n",
    "#Scramble the order of entries\n",
    "mball=mball.sample(frac=1)\n",
    "N=mball.shape[0] #Number of entries"
   ]
  },
  {
   "cell_type": "code",
   "execution_count": null,
   "metadata": {
    "scrolled": false
   },
   "outputs": [],
   "source": [
    "#Define and train models\n",
    "models = [DecisionTreeClassifier(max_depth=1),\n",
    "          DecisionTreeClassifier(max_depth=2),\n",
    "          AdaBoostClassifier(DecisionTreeClassifier(max_depth=1),algorithm=\"SAMME\",n_estimators=500),\n",
    "          GaussianNB()]\n",
    "\n",
    "#Form training and testing samples\n",
    "test_fraction=0.5\n",
    "\n",
    "#Training dataset\n",
    "X=mball.iloc[0:int(N*test_fraction),0:49].values\n",
    "y=mball.iloc[0:int(N*test_fraction),50].values\n",
    "\n",
    "#Testing dataset\n",
    "Xt=mball.iloc[int(N*test_fraction):N,0:49].values\n",
    "yt=mball.iloc[int(N*test_fraction):N,50].values\n",
    "\n",
    "class_names=(\"Signal\",\"Background\")\n",
    "plot_colors = \"br\"\n",
    "plot_step = 0.02\n",
    "\n",
    "#Train the models\n",
    "for model in models:\n",
    "    model.fit(X,y)\n",
    "\n",
    "    # Plot the two-class decision scores\n",
    "    if hasattr(model,\"decision_function\"):\n",
    "        twoclass_output = model.decision_function(X)\n",
    "    else:\n",
    "        twoclass_output = model.predict(X)\n",
    "    plot_range = (twoclass_output.min(), twoclass_output.max())\n",
    "    for i, n, c in zip(range(2), class_names, plot_colors):\n",
    "        plt.hist(twoclass_output[y == i],\n",
    "             bins=20,\n",
    "             range=plot_range,\n",
    "             facecolor=c,\n",
    "             label=n,\n",
    "             alpha=.5)\n",
    "    x1, x2, y1, y2 = plt.axis()\n",
    "    plt.axis((x1, x2, y1, y2 * 1.2))\n",
    "    plt.legend(loc='upper right')\n",
    "    plt.ylabel('Samples')\n",
    "    plt.xlabel('Score')\n",
    "    plt.title('Decision Scores: '+ model.__class__.__name__)\n",
    "\n",
    "    plt.tight_layout()\n",
    "    plt.subplots_adjust(wspace=0.35)\n",
    "    plt.show()"
   ]
  },
  {
   "cell_type": "markdown",
   "metadata": {},
   "source": [
    "<b>Classification Report:</b>\n",
    "<ul>\n",
    "    <li>precision: ability of the classifier to not label as positive a sample that is negative (purity)\n",
    "    <li>recall: ability of the classifier to find all the positive samples (efficiency)\n",
    "    <li>f1-score: harmonic average of precision and recall\n",
    "    <li>support: the true number of samples in this class\n",
    "</ul>"
   ]
  },
  {
   "cell_type": "code",
   "execution_count": null,
   "metadata": {
    "scrolled": true
   },
   "outputs": [],
   "source": [
    "for model in models:\n",
    "    print(\"Classification report for\",model.__class__.__name__)\n",
    "    y_predicted = model.predict(Xt)\n",
    "    print(classification_report(yt, y_predicted,\n",
    "                            target_names=[\"Signal\", \"Background\"]))"
   ]
  },
  {
   "cell_type": "code",
   "execution_count": null,
   "metadata": {},
   "outputs": [],
   "source": [
    "#Comparitive ROC Plot\n",
    "#Get ROC for training sample\n",
    "for model in models:\n",
    "    if hasattr(model,\"decision_function\"):\n",
    "        decisions = model.decision_function(Xt)\n",
    "    else:\n",
    "        decisions = model.predict(Xt)\n",
    "    fpr, tpr, thresholds = roc_curve(yt, decisions)\n",
    "    roc_auc = auc(fpr, tpr)\n",
    "    plt.plot(fpr, tpr, lw=1, label=model.__class__.__name__+' (area = %0.2f)'%(roc_auc))\n",
    "\n",
    "plt.xlim([-0.05, 1.05])\n",
    "plt.ylim([-0.05, 1.05])\n",
    "plt.xlabel('False Positive Rate')\n",
    "plt.ylabel('True Positive Rate')\n",
    "plt.title('Receiver operating characteristic')\n",
    "plt.legend(loc=\"lower right\")\n",
    "plt.show()"
   ]
  },
  {
   "cell_type": "code",
   "execution_count": null,
   "metadata": {},
   "outputs": [],
   "source": []
  }
 ],
 "metadata": {
  "anaconda-cloud": {},
  "kernelspec": {
   "display_name": "Python 3",
   "language": "python",
   "name": "python3"
  },
  "language_info": {
   "codemirror_mode": {
    "name": "ipython",
    "version": 3
   },
   "file_extension": ".py",
   "mimetype": "text/x-python",
   "name": "python",
   "nbconvert_exporter": "python",
   "pygments_lexer": "ipython3",
   "version": "3.7.1"
  }
 },
 "nbformat": 4,
 "nbformat_minor": 1
}
